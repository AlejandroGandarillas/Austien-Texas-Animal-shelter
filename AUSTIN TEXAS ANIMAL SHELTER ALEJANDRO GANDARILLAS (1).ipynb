{
 "cells": [
  {
   "cell_type": "code",
   "execution_count": null,
   "id": "f6725745-aae1-4606-91cd-b88f4e637d2d",
   "metadata": {},
   "outputs": [],
   "source": [
    "from PIL import Image\n",
    "import matplotlib.pyplot as plt\n",
    "import seaborn as sns\n",
    "import pandas as pd\n"
   ]
  },
  {
   "cell_type": "code",
   "execution_count": null,
   "id": "9d1e759b-6368-4555-be55-1801c800d54c",
   "metadata": {},
   "outputs": [],
   "source": [
    "sns.set_theme(style=\"whitegrid\", palette=\"muted\")\n",
    "\n",
    "file_path = \"INTAKES.csv\"\n",
    "\n",
    "data = pd.read_csv(file_path)\n",
    "\n",
    "data['Name'] = data['Name'].fillna('No Name').replace('', 'No Name')\n",
    "\n",
    "#Display\n",
    "def annotate_bars(ax):\n",
    "    for bar in ax.patches:\n",
    "        bar_value = bar.get_width() \n",
    "        text_x = bar_value + 0.5  \n",
    "        text_y = bar.get_y() + bar.get_height() / 2\n",
    "        ax.text(text_x, text_y, f'{int(bar_value)}', ha='left', va='center', fontsize=10, color='black')\n",
    "\n",
    "def display_starting_page():\n",
    "    img = Image.open(\"Dog.webp\")\n",
    "    fig, ax = plt.subplots(figsize=(6, 10)) \n",
    "    ax.imshow(img)\n",
    "    ax.axis('off')\n",
    "    ax.text(0.5, -0.15, 'Austin Shelter estadisticas', fontsize=24, color='black', ha='center', va='center', fontweight='bold', transform=ax.transAxes)\n",
    "    plt.subplots_adjust(top=1, bottom=0) \n",
    "    plt.show()\n",
    "\n",
    "display_starting_page()"
   ]
  },
  {
   "cell_type": "code",
   "execution_count": null,
   "id": "a00213c9-dbc8-4de6-82af-10a0371be025",
   "metadata": {},
   "outputs": [],
   "source": [
    "#Razas más comunes \n",
    "breed_counts = data['Breed'].value_counts()\n",
    "plt.figure(figsize=(10, 6))\n",
    "ax = sns.barplot(x=breed_counts.head(10).values, y=breed_counts.head(10).index, palette=\"YlOrBr\")\n",
    "plt.title('Top 10 razas más comunes', fontsize=18, fontweight='bold', color='brown')\n",
    "plt.xlabel('Numero de perros', fontsize=14, color='darkgreen')\n",
    "plt.ylabel('Raza', fontsize=14, color='darkgreen')\n",
    "plt.xticks(fontsize=12)\n",
    "plt.yticks(fontsize=12)\n",
    "\n",
    "annotate_bars(ax)\n",
    "plt.show()\n"
   ]
  },
  {
   "cell_type": "code",
   "execution_count": null,
   "id": "e6a80e96-bf02-47bb-ab6d-85be4dd86fa4",
   "metadata": {},
   "outputs": [],
   "source": [
    "#Tipo de animal\n",
    "animal_type_counts = data['Animal Type'].value_counts()\n",
    "plt.figure(figsize=(8, 6))\n",
    "ax = sns.barplot(x=animal_type_counts.values, y=animal_type_counts.index, palette=\"Blues_r\")\n",
    "plt.title('Distribucion', fontsize=18, fontweight='bold', color='brown')\n",
    "plt.xlabel('Numero de animales', fontsize=14, color='darkgreen')\n",
    "plt.ylabel('Tipo de Animal', fontsize=14, color='darkgreen')\n",
    "plt.xticks(fontsize=12)\n",
    "plt.yticks(fontsize=12)\n",
    "\n",
    "annotate_bars(ax)\n",
    "plt.show()"
   ]
  },
  {
   "cell_type": "code",
   "execution_count": null,
   "id": "c9e9acb7-6c2a-400d-b98e-02daa18954d7",
   "metadata": {},
   "outputs": [],
   "source": [
    "#Tipo de llegada\n",
    "intake_condition_counts = data['Intake Condition'].value_counts()\n",
    "plt.figure(figsize=(8, 6))\n",
    "ax = sns.barplot(x=intake_condition_counts.values, y=intake_condition_counts.index, palette=\"Greens_r\")\n",
    "plt.title('Distribución de llegadas', fontsize=18, fontweight='bold', color='brown')\n",
    "plt.xlabel('Numero de casos', fontsize=14, color='darkgreen')\n",
    "plt.ylabel('Tipo de llegada', fontsize=14, color='darkgreen')\n",
    "plt.xticks(fontsize=12)\n",
    "plt.yticks(fontsize=12)\n",
    "\n",
    "annotate_bars(ax)\n",
    "plt.show()"
   ]
  },
  {
   "cell_type": "code",
   "execution_count": null,
   "id": "0407802b-ff46-47f0-93cd-738ec8af7f1c",
   "metadata": {},
   "outputs": [],
   "source": [
    "#Tipo de caso\n",
    "intake_type_counts = data['Intake Type'].value_counts()\n",
    "plt.figure(figsize=(8, 6))\n",
    "ax = sns.barplot(x=intake_type_counts.values, y=intake_type_counts.index, palette=\"Oranges_r\")\n",
    "plt.title('Distribución de llegadas', fontsize=18, fontweight='bold', color='brown')\n",
    "plt.xlabel('Numero de casos', fontsize=14, color='darkgreen')\n",
    "plt.ylabel('Tipo de entrada', fontsize=14, color='darkgreen')\n",
    "plt.xticks(fontsize=12)\n",
    "plt.yticks(fontsize=12)\n",
    "\n",
    "annotate_bars(ax)\n",
    "plt.show()"
   ]
  },
  {
   "cell_type": "code",
   "execution_count": null,
   "id": "5dcbba44-f052-48f7-bfad-9486abd23307",
   "metadata": {},
   "outputs": [],
   "source": [
    "#Nombre\n",
    "name_type_counts = data['Name'].value_counts()\n",
    "plt.figure(figsize=(10, 6))\n",
    "ax = sns.barplot(x=name_type_counts.head(10).values, y=name_type_counts.head(10).index, palette=\"Pastel1\")\n",
    "plt.title('Top 10 Nombres más comunes ', fontsize=18, fontweight='bold', color='brown')\n",
    "plt.xlabel('Numero de mascotas', fontsize=14, color='darkgreen')\n",
    "plt.ylabel('Nombre', fontsize=14, color='darkgreen')\n",
    "plt.xticks(fontsize=12)\n",
    "plt.yticks(fontsize=12)\n",
    "\n",
    "annotate_bars(ax)\n",
    "plt.show()"
   ]
  },
  {
   "cell_type": "code",
   "execution_count": null,
   "id": "18ca08ac-89a3-4da1-bbf7-ae48c5b4652b",
   "metadata": {},
   "outputs": [],
   "source": [
    "#Conclusion\n",
    "print(\"\\nConclusiones:\")\n",
    "print(\"1. La raza más común es:\", breed_counts.idxmax(), \"con\", breed_counts.max(), \"entradas.\")\n",
    "print(\"2. El animal más común es:\", animal_type_counts.idxmax(), \"con\", animal_type_counts.max(), \"entradas.\")\n",
    "print(\"3. La condición más común es:\", intake_condition_counts.idxmax(), \"con\", intake_condition_counts.max(), \"entradas.\")\n",
    "print(\"4. La llegada más común es:\", intake_type_counts.idxmax(), \"con\", intake_type_counts.max(), \"entradas.\")\n",
    "print(\"5. El nombre más común es :\", name_type_counts.idxmax(), \"con\", name_type_counts.max(), \"entradas\")"
   ]
  }
 ],
 "metadata": {
  "kernelspec": {
   "display_name": "Python 3 (ipykernel)",
   "language": "python",
   "name": "python3"
  },
  "language_info": {
   "codemirror_mode": {
    "name": "ipython",
    "version": 3
   },
   "file_extension": ".py",
   "mimetype": "text/x-python",
   "name": "python",
   "nbconvert_exporter": "python",
   "pygments_lexer": "ipython3",
   "version": "3.13.1"
  }
 },
 "nbformat": 4,
 "nbformat_minor": 5
}
